{
  "cells": [
    {
      "cell_type": "markdown",
      "metadata": {
        "id": "view-in-github",
        "colab_type": "text"
      },
      "source": [
        "<a href=\"https://colab.research.google.com/github/vinaAngelica06/data_science_course/blob/main/Vina_Angelica.ipynb\" target=\"_parent\"><img src=\"https://colab.research.google.com/assets/colab-badge.svg\" alt=\"Open In Colab\"/></a>"
      ]
    },
    {
      "cell_type": "markdown",
      "id": "ae0654e1",
      "metadata": {
        "id": "ae0654e1"
      },
      "source": [
        "### Homework Rakamin Trial Class - Mini Case"
      ]
    },
    {
      "cell_type": "code",
      "source": [],
      "metadata": {
        "id": "wV8GOlXotquq"
      },
      "id": "wV8GOlXotquq",
      "execution_count": null,
      "outputs": []
    },
    {
      "cell_type": "markdown",
      "id": "578645f2",
      "metadata": {
        "id": "578645f2"
      },
      "source": [
        "# Mengukur Performa Penjualan Ritel Online"
      ]
    },
    {
      "cell_type": "markdown",
      "id": "ebf52fe7",
      "metadata": {
        "id": "ebf52fe7"
      },
      "source": [
        "## Load Data"
      ]
    },
    {
      "cell_type": "code",
      "execution_count": null,
      "id": "6c4b0183",
      "metadata": {
        "id": "6c4b0183"
      },
      "outputs": [],
      "source": [
        "import pandas as pd"
      ]
    },
    {
      "cell_type": "code",
      "source": [
        "df = pd.DataFrame"
      ],
      "metadata": {
        "id": "dnCCz9jQbgza"
      },
      "id": "dnCCz9jQbgza",
      "execution_count": null,
      "outputs": []
    },
    {
      "cell_type": "code",
      "source": [
        "df_dataset =pd.read_csv('online_retail_II.csv')\n",
        "df_dataset"
      ],
      "metadata": {
        "colab": {
          "base_uri": "https://localhost:8080/",
          "height": 641
        },
        "id": "9SA52HnJcAxw",
        "outputId": "2109b237-cb8b-427a-82c3-cde41ca9c0ad"
      },
      "id": "9SA52HnJcAxw",
      "execution_count": null,
      "outputs": [
        {
          "output_type": "execute_result",
          "data": {
            "text/plain": [
              "       Invoice StockCode                          Description  Quantity  \\\n",
              "0       489434     85048  15CM CHRISTMAS GLASS BALL 20 LIGHTS        12   \n",
              "1       489434    79323P                   PINK CHERRY LIGHTS        12   \n",
              "2       489434    79323W                  WHITE CHERRY LIGHTS        12   \n",
              "3       489434     22041         RECORD FRAME 7\" SINGLE SIZE         48   \n",
              "4       489434     21232       STRAWBERRY CERAMIC TRINKET BOX        24   \n",
              "...        ...       ...                                  ...       ...   \n",
              "482431  534640     22114    HOT WATER BOTTLE TEA AND SYMPATHY        24   \n",
              "482432  534640     22112           CHOCOLATE HOT WATER BOTTLE        24   \n",
              "482433  534640     22077               6 RIBBONS RUSTIC CHARM        24   \n",
              "482434  534640     22029               SPACEBOY BIRTHDAY CARD        24   \n",
              "482435  534640     22027              TEA PARTY BIRTHDAY CARD        24   \n",
              "\n",
              "                InvoiceDate  Price  Customer ID         Country  \n",
              "0       2009-12-01 07:45:00   6.95      13085.0  United Kingdom  \n",
              "1       2009-12-01 07:45:00   6.75      13085.0  United Kingdom  \n",
              "2       2009-12-01 07:45:00   6.75      13085.0  United Kingdom  \n",
              "3       2009-12-01 07:45:00   2.10      13085.0  United Kingdom  \n",
              "4       2009-12-01 07:45:00   1.25      13085.0  United Kingdom  \n",
              "...                     ...    ...          ...             ...  \n",
              "482431  2010-11-23 13:02:00   3.45      13089.0  United Kingdom  \n",
              "482432  2010-11-23 13:02:00   4.25      13089.0  United Kingdom  \n",
              "482433  2010-11-23 13:02:00   1.65      13089.0  United Kingdom  \n",
              "482434  2010-11-23 13:02:00   0.42      13089.0  United Kingdom  \n",
              "482435                  NaN    NaN          NaN             NaN  \n",
              "\n",
              "[482436 rows x 8 columns]"
            ],
            "text/html": [
              "\n",
              "  <div id=\"df-defc452c-abf0-4faf-b954-2792da8f5d36\">\n",
              "    <div class=\"colab-df-container\">\n",
              "      <div>\n",
              "<style scoped>\n",
              "    .dataframe tbody tr th:only-of-type {\n",
              "        vertical-align: middle;\n",
              "    }\n",
              "\n",
              "    .dataframe tbody tr th {\n",
              "        vertical-align: top;\n",
              "    }\n",
              "\n",
              "    .dataframe thead th {\n",
              "        text-align: right;\n",
              "    }\n",
              "</style>\n",
              "<table border=\"1\" class=\"dataframe\">\n",
              "  <thead>\n",
              "    <tr style=\"text-align: right;\">\n",
              "      <th></th>\n",
              "      <th>Invoice</th>\n",
              "      <th>StockCode</th>\n",
              "      <th>Description</th>\n",
              "      <th>Quantity</th>\n",
              "      <th>InvoiceDate</th>\n",
              "      <th>Price</th>\n",
              "      <th>Customer ID</th>\n",
              "      <th>Country</th>\n",
              "    </tr>\n",
              "  </thead>\n",
              "  <tbody>\n",
              "    <tr>\n",
              "      <th>0</th>\n",
              "      <td>489434</td>\n",
              "      <td>85048</td>\n",
              "      <td>15CM CHRISTMAS GLASS BALL 20 LIGHTS</td>\n",
              "      <td>12</td>\n",
              "      <td>2009-12-01 07:45:00</td>\n",
              "      <td>6.95</td>\n",
              "      <td>13085.0</td>\n",
              "      <td>United Kingdom</td>\n",
              "    </tr>\n",
              "    <tr>\n",
              "      <th>1</th>\n",
              "      <td>489434</td>\n",
              "      <td>79323P</td>\n",
              "      <td>PINK CHERRY LIGHTS</td>\n",
              "      <td>12</td>\n",
              "      <td>2009-12-01 07:45:00</td>\n",
              "      <td>6.75</td>\n",
              "      <td>13085.0</td>\n",
              "      <td>United Kingdom</td>\n",
              "    </tr>\n",
              "    <tr>\n",
              "      <th>2</th>\n",
              "      <td>489434</td>\n",
              "      <td>79323W</td>\n",
              "      <td>WHITE CHERRY LIGHTS</td>\n",
              "      <td>12</td>\n",
              "      <td>2009-12-01 07:45:00</td>\n",
              "      <td>6.75</td>\n",
              "      <td>13085.0</td>\n",
              "      <td>United Kingdom</td>\n",
              "    </tr>\n",
              "    <tr>\n",
              "      <th>3</th>\n",
              "      <td>489434</td>\n",
              "      <td>22041</td>\n",
              "      <td>RECORD FRAME 7\" SINGLE SIZE</td>\n",
              "      <td>48</td>\n",
              "      <td>2009-12-01 07:45:00</td>\n",
              "      <td>2.10</td>\n",
              "      <td>13085.0</td>\n",
              "      <td>United Kingdom</td>\n",
              "    </tr>\n",
              "    <tr>\n",
              "      <th>4</th>\n",
              "      <td>489434</td>\n",
              "      <td>21232</td>\n",
              "      <td>STRAWBERRY CERAMIC TRINKET BOX</td>\n",
              "      <td>24</td>\n",
              "      <td>2009-12-01 07:45:00</td>\n",
              "      <td>1.25</td>\n",
              "      <td>13085.0</td>\n",
              "      <td>United Kingdom</td>\n",
              "    </tr>\n",
              "    <tr>\n",
              "      <th>...</th>\n",
              "      <td>...</td>\n",
              "      <td>...</td>\n",
              "      <td>...</td>\n",
              "      <td>...</td>\n",
              "      <td>...</td>\n",
              "      <td>...</td>\n",
              "      <td>...</td>\n",
              "      <td>...</td>\n",
              "    </tr>\n",
              "    <tr>\n",
              "      <th>482431</th>\n",
              "      <td>534640</td>\n",
              "      <td>22114</td>\n",
              "      <td>HOT WATER BOTTLE TEA AND SYMPATHY</td>\n",
              "      <td>24</td>\n",
              "      <td>2010-11-23 13:02:00</td>\n",
              "      <td>3.45</td>\n",
              "      <td>13089.0</td>\n",
              "      <td>United Kingdom</td>\n",
              "    </tr>\n",
              "    <tr>\n",
              "      <th>482432</th>\n",
              "      <td>534640</td>\n",
              "      <td>22112</td>\n",
              "      <td>CHOCOLATE HOT WATER BOTTLE</td>\n",
              "      <td>24</td>\n",
              "      <td>2010-11-23 13:02:00</td>\n",
              "      <td>4.25</td>\n",
              "      <td>13089.0</td>\n",
              "      <td>United Kingdom</td>\n",
              "    </tr>\n",
              "    <tr>\n",
              "      <th>482433</th>\n",
              "      <td>534640</td>\n",
              "      <td>22077</td>\n",
              "      <td>6 RIBBONS RUSTIC CHARM</td>\n",
              "      <td>24</td>\n",
              "      <td>2010-11-23 13:02:00</td>\n",
              "      <td>1.65</td>\n",
              "      <td>13089.0</td>\n",
              "      <td>United Kingdom</td>\n",
              "    </tr>\n",
              "    <tr>\n",
              "      <th>482434</th>\n",
              "      <td>534640</td>\n",
              "      <td>22029</td>\n",
              "      <td>SPACEBOY BIRTHDAY CARD</td>\n",
              "      <td>24</td>\n",
              "      <td>2010-11-23 13:02:00</td>\n",
              "      <td>0.42</td>\n",
              "      <td>13089.0</td>\n",
              "      <td>United Kingdom</td>\n",
              "    </tr>\n",
              "    <tr>\n",
              "      <th>482435</th>\n",
              "      <td>534640</td>\n",
              "      <td>22027</td>\n",
              "      <td>TEA PARTY BIRTHDAY CARD</td>\n",
              "      <td>24</td>\n",
              "      <td>NaN</td>\n",
              "      <td>NaN</td>\n",
              "      <td>NaN</td>\n",
              "      <td>NaN</td>\n",
              "    </tr>\n",
              "  </tbody>\n",
              "</table>\n",
              "<p>482436 rows × 8 columns</p>\n",
              "</div>\n",
              "      <button class=\"colab-df-convert\" onclick=\"convertToInteractive('df-defc452c-abf0-4faf-b954-2792da8f5d36')\"\n",
              "              title=\"Convert this dataframe to an interactive table.\"\n",
              "              style=\"display:none;\">\n",
              "        \n",
              "  <svg xmlns=\"http://www.w3.org/2000/svg\" height=\"24px\"viewBox=\"0 0 24 24\"\n",
              "       width=\"24px\">\n",
              "    <path d=\"M0 0h24v24H0V0z\" fill=\"none\"/>\n",
              "    <path d=\"M18.56 5.44l.94 2.06.94-2.06 2.06-.94-2.06-.94-.94-2.06-.94 2.06-2.06.94zm-11 1L8.5 8.5l.94-2.06 2.06-.94-2.06-.94L8.5 2.5l-.94 2.06-2.06.94zm10 10l.94 2.06.94-2.06 2.06-.94-2.06-.94-.94-2.06-.94 2.06-2.06.94z\"/><path d=\"M17.41 7.96l-1.37-1.37c-.4-.4-.92-.59-1.43-.59-.52 0-1.04.2-1.43.59L10.3 9.45l-7.72 7.72c-.78.78-.78 2.05 0 2.83L4 21.41c.39.39.9.59 1.41.59.51 0 1.02-.2 1.41-.59l7.78-7.78 2.81-2.81c.8-.78.8-2.07 0-2.86zM5.41 20L4 18.59l7.72-7.72 1.47 1.35L5.41 20z\"/>\n",
              "  </svg>\n",
              "      </button>\n",
              "      \n",
              "  <style>\n",
              "    .colab-df-container {\n",
              "      display:flex;\n",
              "      flex-wrap:wrap;\n",
              "      gap: 12px;\n",
              "    }\n",
              "\n",
              "    .colab-df-convert {\n",
              "      background-color: #E8F0FE;\n",
              "      border: none;\n",
              "      border-radius: 50%;\n",
              "      cursor: pointer;\n",
              "      display: none;\n",
              "      fill: #1967D2;\n",
              "      height: 32px;\n",
              "      padding: 0 0 0 0;\n",
              "      width: 32px;\n",
              "    }\n",
              "\n",
              "    .colab-df-convert:hover {\n",
              "      background-color: #E2EBFA;\n",
              "      box-shadow: 0px 1px 2px rgba(60, 64, 67, 0.3), 0px 1px 3px 1px rgba(60, 64, 67, 0.15);\n",
              "      fill: #174EA6;\n",
              "    }\n",
              "\n",
              "    [theme=dark] .colab-df-convert {\n",
              "      background-color: #3B4455;\n",
              "      fill: #D2E3FC;\n",
              "    }\n",
              "\n",
              "    [theme=dark] .colab-df-convert:hover {\n",
              "      background-color: #434B5C;\n",
              "      box-shadow: 0px 1px 3px 1px rgba(0, 0, 0, 0.15);\n",
              "      filter: drop-shadow(0px 1px 2px rgba(0, 0, 0, 0.3));\n",
              "      fill: #FFFFFF;\n",
              "    }\n",
              "  </style>\n",
              "\n",
              "      <script>\n",
              "        const buttonEl =\n",
              "          document.querySelector('#df-defc452c-abf0-4faf-b954-2792da8f5d36 button.colab-df-convert');\n",
              "        buttonEl.style.display =\n",
              "          google.colab.kernel.accessAllowed ? 'block' : 'none';\n",
              "\n",
              "        async function convertToInteractive(key) {\n",
              "          const element = document.querySelector('#df-defc452c-abf0-4faf-b954-2792da8f5d36');\n",
              "          const dataTable =\n",
              "            await google.colab.kernel.invokeFunction('convertToInteractive',\n",
              "                                                     [key], {});\n",
              "          if (!dataTable) return;\n",
              "\n",
              "          const docLinkHtml = 'Like what you see? Visit the ' +\n",
              "            '<a target=\"_blank\" href=https://colab.research.google.com/notebooks/data_table.ipynb>data table notebook</a>'\n",
              "            + ' to learn more about interactive tables.';\n",
              "          element.innerHTML = '';\n",
              "          dataTable['output_type'] = 'display_data';\n",
              "          await google.colab.output.renderOutput(dataTable, element);\n",
              "          const docLink = document.createElement('div');\n",
              "          docLink.innerHTML = docLinkHtml;\n",
              "          element.appendChild(docLink);\n",
              "        }\n",
              "      </script>\n",
              "    </div>\n",
              "  </div>\n",
              "  "
            ]
          },
          "metadata": {},
          "execution_count": 5
        }
      ]
    },
    {
      "cell_type": "markdown",
      "id": "794e2063",
      "metadata": {
        "id": "794e2063"
      },
      "source": [
        "## Section 1"
      ]
    },
    {
      "cell_type": "markdown",
      "id": "0ead195f",
      "metadata": {
        "id": "0ead195f"
      },
      "source": [
        "### Create New Feature: Year"
      ]
    },
    {
      "cell_type": "code",
      "execution_count": null,
      "id": "5a1281e7",
      "metadata": {
        "colab": {
          "base_uri": "https://localhost:8080/"
        },
        "id": "5a1281e7",
        "outputId": "f4522c67-066c-45ce-be3f-05e42da343ec"
      },
      "outputs": [
        {
          "output_type": "stream",
          "name": "stdout",
          "text": [
            "<bound method NDFrame.head of         Invoice StockCode                          Description  Quantity  \\\n",
            "0        489434     85048  15CM CHRISTMAS GLASS BALL 20 LIGHTS        12   \n",
            "1        489434    79323P                   PINK CHERRY LIGHTS        12   \n",
            "2        489434    79323W                  WHITE CHERRY LIGHTS        12   \n",
            "3        489434     22041         RECORD FRAME 7\" SINGLE SIZE         48   \n",
            "4        489434     21232       STRAWBERRY CERAMIC TRINKET BOX        24   \n",
            "...         ...       ...                                  ...       ...   \n",
            "1067366  581587     22899         CHILDREN'S APRON DOLLY GIRL          6   \n",
            "1067367  581587     23254        CHILDRENS CUTLERY DOLLY GIRL          4   \n",
            "1067368  581587     23255      CHILDRENS CUTLERY CIRCUS PARADE         4   \n",
            "1067369  581587     22138        BAKING SET 9 PIECE RETROSPOT          3   \n",
            "1067370  581587      POST                              POSTAGE         1   \n",
            "\n",
            "                 InvoiceDate  Price  Customer ID         Country  Year  \n",
            "0        2009-12-01 07:45:00   6.95      13085.0  United Kingdom  2009  \n",
            "1        2009-12-01 07:45:00   6.75      13085.0  United Kingdom  2009  \n",
            "2        2009-12-01 07:45:00   6.75      13085.0  United Kingdom  2009  \n",
            "3        2009-12-01 07:45:00   2.10      13085.0  United Kingdom  2009  \n",
            "4        2009-12-01 07:45:00   1.25      13085.0  United Kingdom  2009  \n",
            "...                      ...    ...          ...             ...   ...  \n",
            "1067366  2011-12-09 12:50:00   2.10      12680.0          France  2011  \n",
            "1067367  2011-12-09 12:50:00   4.15      12680.0          France  2011  \n",
            "1067368  2011-12-09 12:50:00   4.15      12680.0          France  2011  \n",
            "1067369  2011-12-09 12:50:00   4.95      12680.0          France  2011  \n",
            "1067370  2011-12-09 12:50:00  18.00      12680.0          France  2011  \n",
            "\n",
            "[1067371 rows x 9 columns]>\n"
          ]
        }
      ],
      "source": [
        "import pandas as pd\n",
        "df = pd.read_csv(\"online_retail_II.csv\")\n",
        "# membuat kolom baru \"Year\" yang berisi nilai tahun dari kolom \"Invoice Date\"\n",
        "df['Year'] = pd.DatetimeIndex(df['InvoiceDate']).year\n",
        "print(df.head)"
      ]
    },
    {
      "cell_type": "code",
      "source": [
        "import pandas as pd\n",
        "df = pd.read_csv(\"online_retail_II.csv\")\n",
        "\n",
        "df[\"Year\"] = \"InvoiceDate\"\n",
        "print(\"\\nTipe data df setelah transformasi:\\n\", df.dtypes)\n"
      ],
      "metadata": {
        "id": "LbaAqpsAttas",
        "colab": {
          "base_uri": "https://localhost:8080/"
        },
        "outputId": "eb874bc5-e281-4493-941b-7c0154ced1e9"
      },
      "id": "LbaAqpsAttas",
      "execution_count": null,
      "outputs": [
        {
          "output_type": "stream",
          "name": "stdout",
          "text": [
            "\n",
            "Tipe data df setelah transformasi:\n",
            " Invoice         object\n",
            "StockCode       object\n",
            "Description     object\n",
            "Quantity         int64\n",
            "InvoiceDate     object\n",
            "Price          float64\n",
            "Customer ID    float64\n",
            "Country         object\n",
            "Year            object\n",
            "dtype: object\n"
          ]
        }
      ]
    },
    {
      "cell_type": "code",
      "source": [
        "import pandas as pd\n",
        "\n",
        "df_dataset =pd.read_csv('online_retail_II.csv')\n",
        "df_dataset\n",
        "# Gunakan function dari library pandas untuk mendapatkan tahun dari kolom InvoiceDate\n",
        "df ['InvoiceDate'] = pd.DatetimeIndex(df['InvoiceDate']).year\n",
        "df_dataset"
      ],
      "metadata": {
        "colab": {
          "base_uri": "https://localhost:8080/",
          "height": 424
        },
        "id": "Oho4Ns_jzd6n",
        "outputId": "ef7028ce-321c-4cee-b2d0-6fecbed30c21"
      },
      "id": "Oho4Ns_jzd6n",
      "execution_count": null,
      "outputs": [
        {
          "output_type": "execute_result",
          "data": {
            "text/plain": [
              "        Invoice StockCode                          Description  Quantity  \\\n",
              "0        489434     85048  15CM CHRISTMAS GLASS BALL 20 LIGHTS        12   \n",
              "1        489434    79323P                   PINK CHERRY LIGHTS        12   \n",
              "2        489434    79323W                  WHITE CHERRY LIGHTS        12   \n",
              "3        489434     22041         RECORD FRAME 7\" SINGLE SIZE         48   \n",
              "4        489434     21232       STRAWBERRY CERAMIC TRINKET BOX        24   \n",
              "...         ...       ...                                  ...       ...   \n",
              "1067366  581587     22899         CHILDREN'S APRON DOLLY GIRL          6   \n",
              "1067367  581587     23254        CHILDRENS CUTLERY DOLLY GIRL          4   \n",
              "1067368  581587     23255      CHILDRENS CUTLERY CIRCUS PARADE         4   \n",
              "1067369  581587     22138        BAKING SET 9 PIECE RETROSPOT          3   \n",
              "1067370  581587      POST                              POSTAGE         1   \n",
              "\n",
              "                 InvoiceDate  Price  Customer ID         Country  \n",
              "0        2009-12-01 07:45:00   6.95      13085.0  United Kingdom  \n",
              "1        2009-12-01 07:45:00   6.75      13085.0  United Kingdom  \n",
              "2        2009-12-01 07:45:00   6.75      13085.0  United Kingdom  \n",
              "3        2009-12-01 07:45:00   2.10      13085.0  United Kingdom  \n",
              "4        2009-12-01 07:45:00   1.25      13085.0  United Kingdom  \n",
              "...                      ...    ...          ...             ...  \n",
              "1067366  2011-12-09 12:50:00   2.10      12680.0          France  \n",
              "1067367  2011-12-09 12:50:00   4.15      12680.0          France  \n",
              "1067368  2011-12-09 12:50:00   4.15      12680.0          France  \n",
              "1067369  2011-12-09 12:50:00   4.95      12680.0          France  \n",
              "1067370  2011-12-09 12:50:00  18.00      12680.0          France  \n",
              "\n",
              "[1067371 rows x 8 columns]"
            ],
            "text/html": [
              "\n",
              "  <div id=\"df-d208fcc7-8668-47f9-bc79-41dbe03b03c2\">\n",
              "    <div class=\"colab-df-container\">\n",
              "      <div>\n",
              "<style scoped>\n",
              "    .dataframe tbody tr th:only-of-type {\n",
              "        vertical-align: middle;\n",
              "    }\n",
              "\n",
              "    .dataframe tbody tr th {\n",
              "        vertical-align: top;\n",
              "    }\n",
              "\n",
              "    .dataframe thead th {\n",
              "        text-align: right;\n",
              "    }\n",
              "</style>\n",
              "<table border=\"1\" class=\"dataframe\">\n",
              "  <thead>\n",
              "    <tr style=\"text-align: right;\">\n",
              "      <th></th>\n",
              "      <th>Invoice</th>\n",
              "      <th>StockCode</th>\n",
              "      <th>Description</th>\n",
              "      <th>Quantity</th>\n",
              "      <th>InvoiceDate</th>\n",
              "      <th>Price</th>\n",
              "      <th>Customer ID</th>\n",
              "      <th>Country</th>\n",
              "    </tr>\n",
              "  </thead>\n",
              "  <tbody>\n",
              "    <tr>\n",
              "      <th>0</th>\n",
              "      <td>489434</td>\n",
              "      <td>85048</td>\n",
              "      <td>15CM CHRISTMAS GLASS BALL 20 LIGHTS</td>\n",
              "      <td>12</td>\n",
              "      <td>2009-12-01 07:45:00</td>\n",
              "      <td>6.95</td>\n",
              "      <td>13085.0</td>\n",
              "      <td>United Kingdom</td>\n",
              "    </tr>\n",
              "    <tr>\n",
              "      <th>1</th>\n",
              "      <td>489434</td>\n",
              "      <td>79323P</td>\n",
              "      <td>PINK CHERRY LIGHTS</td>\n",
              "      <td>12</td>\n",
              "      <td>2009-12-01 07:45:00</td>\n",
              "      <td>6.75</td>\n",
              "      <td>13085.0</td>\n",
              "      <td>United Kingdom</td>\n",
              "    </tr>\n",
              "    <tr>\n",
              "      <th>2</th>\n",
              "      <td>489434</td>\n",
              "      <td>79323W</td>\n",
              "      <td>WHITE CHERRY LIGHTS</td>\n",
              "      <td>12</td>\n",
              "      <td>2009-12-01 07:45:00</td>\n",
              "      <td>6.75</td>\n",
              "      <td>13085.0</td>\n",
              "      <td>United Kingdom</td>\n",
              "    </tr>\n",
              "    <tr>\n",
              "      <th>3</th>\n",
              "      <td>489434</td>\n",
              "      <td>22041</td>\n",
              "      <td>RECORD FRAME 7\" SINGLE SIZE</td>\n",
              "      <td>48</td>\n",
              "      <td>2009-12-01 07:45:00</td>\n",
              "      <td>2.10</td>\n",
              "      <td>13085.0</td>\n",
              "      <td>United Kingdom</td>\n",
              "    </tr>\n",
              "    <tr>\n",
              "      <th>4</th>\n",
              "      <td>489434</td>\n",
              "      <td>21232</td>\n",
              "      <td>STRAWBERRY CERAMIC TRINKET BOX</td>\n",
              "      <td>24</td>\n",
              "      <td>2009-12-01 07:45:00</td>\n",
              "      <td>1.25</td>\n",
              "      <td>13085.0</td>\n",
              "      <td>United Kingdom</td>\n",
              "    </tr>\n",
              "    <tr>\n",
              "      <th>...</th>\n",
              "      <td>...</td>\n",
              "      <td>...</td>\n",
              "      <td>...</td>\n",
              "      <td>...</td>\n",
              "      <td>...</td>\n",
              "      <td>...</td>\n",
              "      <td>...</td>\n",
              "      <td>...</td>\n",
              "    </tr>\n",
              "    <tr>\n",
              "      <th>1067366</th>\n",
              "      <td>581587</td>\n",
              "      <td>22899</td>\n",
              "      <td>CHILDREN'S APRON DOLLY GIRL</td>\n",
              "      <td>6</td>\n",
              "      <td>2011-12-09 12:50:00</td>\n",
              "      <td>2.10</td>\n",
              "      <td>12680.0</td>\n",
              "      <td>France</td>\n",
              "    </tr>\n",
              "    <tr>\n",
              "      <th>1067367</th>\n",
              "      <td>581587</td>\n",
              "      <td>23254</td>\n",
              "      <td>CHILDRENS CUTLERY DOLLY GIRL</td>\n",
              "      <td>4</td>\n",
              "      <td>2011-12-09 12:50:00</td>\n",
              "      <td>4.15</td>\n",
              "      <td>12680.0</td>\n",
              "      <td>France</td>\n",
              "    </tr>\n",
              "    <tr>\n",
              "      <th>1067368</th>\n",
              "      <td>581587</td>\n",
              "      <td>23255</td>\n",
              "      <td>CHILDRENS CUTLERY CIRCUS PARADE</td>\n",
              "      <td>4</td>\n",
              "      <td>2011-12-09 12:50:00</td>\n",
              "      <td>4.15</td>\n",
              "      <td>12680.0</td>\n",
              "      <td>France</td>\n",
              "    </tr>\n",
              "    <tr>\n",
              "      <th>1067369</th>\n",
              "      <td>581587</td>\n",
              "      <td>22138</td>\n",
              "      <td>BAKING SET 9 PIECE RETROSPOT</td>\n",
              "      <td>3</td>\n",
              "      <td>2011-12-09 12:50:00</td>\n",
              "      <td>4.95</td>\n",
              "      <td>12680.0</td>\n",
              "      <td>France</td>\n",
              "    </tr>\n",
              "    <tr>\n",
              "      <th>1067370</th>\n",
              "      <td>581587</td>\n",
              "      <td>POST</td>\n",
              "      <td>POSTAGE</td>\n",
              "      <td>1</td>\n",
              "      <td>2011-12-09 12:50:00</td>\n",
              "      <td>18.00</td>\n",
              "      <td>12680.0</td>\n",
              "      <td>France</td>\n",
              "    </tr>\n",
              "  </tbody>\n",
              "</table>\n",
              "<p>1067371 rows × 8 columns</p>\n",
              "</div>\n",
              "      <button class=\"colab-df-convert\" onclick=\"convertToInteractive('df-d208fcc7-8668-47f9-bc79-41dbe03b03c2')\"\n",
              "              title=\"Convert this dataframe to an interactive table.\"\n",
              "              style=\"display:none;\">\n",
              "        \n",
              "  <svg xmlns=\"http://www.w3.org/2000/svg\" height=\"24px\"viewBox=\"0 0 24 24\"\n",
              "       width=\"24px\">\n",
              "    <path d=\"M0 0h24v24H0V0z\" fill=\"none\"/>\n",
              "    <path d=\"M18.56 5.44l.94 2.06.94-2.06 2.06-.94-2.06-.94-.94-2.06-.94 2.06-2.06.94zm-11 1L8.5 8.5l.94-2.06 2.06-.94-2.06-.94L8.5 2.5l-.94 2.06-2.06.94zm10 10l.94 2.06.94-2.06 2.06-.94-2.06-.94-.94-2.06-.94 2.06-2.06.94z\"/><path d=\"M17.41 7.96l-1.37-1.37c-.4-.4-.92-.59-1.43-.59-.52 0-1.04.2-1.43.59L10.3 9.45l-7.72 7.72c-.78.78-.78 2.05 0 2.83L4 21.41c.39.39.9.59 1.41.59.51 0 1.02-.2 1.41-.59l7.78-7.78 2.81-2.81c.8-.78.8-2.07 0-2.86zM5.41 20L4 18.59l7.72-7.72 1.47 1.35L5.41 20z\"/>\n",
              "  </svg>\n",
              "      </button>\n",
              "      \n",
              "  <style>\n",
              "    .colab-df-container {\n",
              "      display:flex;\n",
              "      flex-wrap:wrap;\n",
              "      gap: 12px;\n",
              "    }\n",
              "\n",
              "    .colab-df-convert {\n",
              "      background-color: #E8F0FE;\n",
              "      border: none;\n",
              "      border-radius: 50%;\n",
              "      cursor: pointer;\n",
              "      display: none;\n",
              "      fill: #1967D2;\n",
              "      height: 32px;\n",
              "      padding: 0 0 0 0;\n",
              "      width: 32px;\n",
              "    }\n",
              "\n",
              "    .colab-df-convert:hover {\n",
              "      background-color: #E2EBFA;\n",
              "      box-shadow: 0px 1px 2px rgba(60, 64, 67, 0.3), 0px 1px 3px 1px rgba(60, 64, 67, 0.15);\n",
              "      fill: #174EA6;\n",
              "    }\n",
              "\n",
              "    [theme=dark] .colab-df-convert {\n",
              "      background-color: #3B4455;\n",
              "      fill: #D2E3FC;\n",
              "    }\n",
              "\n",
              "    [theme=dark] .colab-df-convert:hover {\n",
              "      background-color: #434B5C;\n",
              "      box-shadow: 0px 1px 3px 1px rgba(0, 0, 0, 0.15);\n",
              "      filter: drop-shadow(0px 1px 2px rgba(0, 0, 0, 0.3));\n",
              "      fill: #FFFFFF;\n",
              "    }\n",
              "  </style>\n",
              "\n",
              "      <script>\n",
              "        const buttonEl =\n",
              "          document.querySelector('#df-d208fcc7-8668-47f9-bc79-41dbe03b03c2 button.colab-df-convert');\n",
              "        buttonEl.style.display =\n",
              "          google.colab.kernel.accessAllowed ? 'block' : 'none';\n",
              "\n",
              "        async function convertToInteractive(key) {\n",
              "          const element = document.querySelector('#df-d208fcc7-8668-47f9-bc79-41dbe03b03c2');\n",
              "          const dataTable =\n",
              "            await google.colab.kernel.invokeFunction('convertToInteractive',\n",
              "                                                     [key], {});\n",
              "          if (!dataTable) return;\n",
              "\n",
              "          const docLinkHtml = 'Like what you see? Visit the ' +\n",
              "            '<a target=\"_blank\" href=https://colab.research.google.com/notebooks/data_table.ipynb>data table notebook</a>'\n",
              "            + ' to learn more about interactive tables.';\n",
              "          element.innerHTML = '';\n",
              "          dataTable['output_type'] = 'display_data';\n",
              "          await google.colab.output.renderOutput(dataTable, element);\n",
              "          const docLink = document.createElement('div');\n",
              "          docLink.innerHTML = docLinkHtml;\n",
              "          element.appendChild(docLink);\n",
              "        }\n",
              "      </script>\n",
              "    </div>\n",
              "  </div>\n",
              "  "
            ]
          },
          "metadata": {},
          "execution_count": 16
        }
      ]
    },
    {
      "cell_type": "markdown",
      "id": "9a9f5438",
      "metadata": {
        "id": "9a9f5438"
      },
      "source": [
        "### Filtering Data"
      ]
    },
    {
      "cell_type": "code",
      "execution_count": null,
      "id": "547a9e99",
      "metadata": {
        "id": "547a9e99",
        "colab": {
          "base_uri": "https://localhost:8080/"
        },
        "outputId": "affd91af-d18c-4889-c0f8-6786ff0a8dee"
      },
      "outputs": [
        {
          "output_type": "stream",
          "name": "stdout",
          "text": [
            "<bound method NDFrame.head of         Invoice StockCode                          Description  Quantity  \\\n",
            "0        489434     85048  15CM CHRISTMAS GLASS BALL 20 LIGHTS        12   \n",
            "1        489434    79323P                   PINK CHERRY LIGHTS        12   \n",
            "2        489434    79323W                  WHITE CHERRY LIGHTS        12   \n",
            "3        489434     22041         RECORD FRAME 7\" SINGLE SIZE         48   \n",
            "4        489434     21232       STRAWBERRY CERAMIC TRINKET BOX        24   \n",
            "...         ...       ...                                  ...       ...   \n",
            "1067366  581587     22899         CHILDREN'S APRON DOLLY GIRL          6   \n",
            "1067367  581587     23254        CHILDRENS CUTLERY DOLLY GIRL          4   \n",
            "1067368  581587     23255      CHILDRENS CUTLERY CIRCUS PARADE         4   \n",
            "1067369  581587     22138        BAKING SET 9 PIECE RETROSPOT          3   \n",
            "1067370  581587      POST                              POSTAGE         1   \n",
            "\n",
            "                 InvoiceDate  Price  Customer ID         Country  \n",
            "0        2009-12-01 07:45:00   6.95      13085.0  United Kingdom  \n",
            "1        2009-12-01 07:45:00   6.75      13085.0  United Kingdom  \n",
            "2        2009-12-01 07:45:00   6.75      13085.0  United Kingdom  \n",
            "3        2009-12-01 07:45:00   2.10      13085.0  United Kingdom  \n",
            "4        2009-12-01 07:45:00   1.25      13085.0  United Kingdom  \n",
            "...                      ...    ...          ...             ...  \n",
            "1067366  2011-12-09 12:50:00   2.10      12680.0          France  \n",
            "1067367  2011-12-09 12:50:00   4.15      12680.0          France  \n",
            "1067368  2011-12-09 12:50:00   4.15      12680.0          France  \n",
            "1067369  2011-12-09 12:50:00   4.95      12680.0          France  \n",
            "1067370  2011-12-09 12:50:00  18.00      12680.0          France  \n",
            "\n",
            "[1067371 rows x 8 columns]>\n"
          ]
        }
      ],
      "source": [
        "import pandas as pd\n",
        "df = pd.read_csv(\"online_retail_II.csv\")\n",
        "sales = df[~df['Invoice'].str.contains('C') & (df['Quantity'] > 0)]\n",
        "print(df.head)"
      ]
    },
    {
      "cell_type": "markdown",
      "id": "0bef109f",
      "metadata": {
        "id": "0bef109f"
      },
      "source": [
        "### Create New Feature: Revenue"
      ]
    },
    {
      "cell_type": "code",
      "execution_count": null,
      "id": "9a670915",
      "metadata": {
        "id": "9a670915",
        "colab": {
          "base_uri": "https://localhost:8080/"
        },
        "outputId": "d204572d-5553-408f-f609-4d4db9f8616b"
      },
      "outputs": [
        {
          "output_type": "stream",
          "name": "stdout",
          "text": [
            "<bound method NDFrame.head of         Invoice StockCode                          Description  Quantity  \\\n",
            "0        489434     85048  15CM CHRISTMAS GLASS BALL 20 LIGHTS        12   \n",
            "1        489434    79323P                   PINK CHERRY LIGHTS        12   \n",
            "2        489434    79323W                  WHITE CHERRY LIGHTS        12   \n",
            "3        489434     22041         RECORD FRAME 7\" SINGLE SIZE         48   \n",
            "4        489434     21232       STRAWBERRY CERAMIC TRINKET BOX        24   \n",
            "...         ...       ...                                  ...       ...   \n",
            "1067366  581587     22899         CHILDREN'S APRON DOLLY GIRL          6   \n",
            "1067367  581587     23254        CHILDRENS CUTLERY DOLLY GIRL          4   \n",
            "1067368  581587     23255      CHILDRENS CUTLERY CIRCUS PARADE         4   \n",
            "1067369  581587     22138        BAKING SET 9 PIECE RETROSPOT          3   \n",
            "1067370  581587      POST                              POSTAGE         1   \n",
            "\n",
            "                 InvoiceDate  Price  Customer ID         Country  Revenue  \n",
            "0        2009-12-01 07:45:00   6.95      13085.0  United Kingdom    83.40  \n",
            "1        2009-12-01 07:45:00   6.75      13085.0  United Kingdom    81.00  \n",
            "2        2009-12-01 07:45:00   6.75      13085.0  United Kingdom    81.00  \n",
            "3        2009-12-01 07:45:00   2.10      13085.0  United Kingdom   100.80  \n",
            "4        2009-12-01 07:45:00   1.25      13085.0  United Kingdom    30.00  \n",
            "...                      ...    ...          ...             ...      ...  \n",
            "1067366  2011-12-09 12:50:00   2.10      12680.0          France    12.60  \n",
            "1067367  2011-12-09 12:50:00   4.15      12680.0          France    16.60  \n",
            "1067368  2011-12-09 12:50:00   4.15      12680.0          France    16.60  \n",
            "1067369  2011-12-09 12:50:00   4.95      12680.0          France    14.85  \n",
            "1067370  2011-12-09 12:50:00  18.00      12680.0          France    18.00  \n",
            "\n",
            "[1067371 rows x 9 columns]>\n"
          ]
        }
      ],
      "source": [
        "import pandas as pd\n",
        "df = pd.read_csv(\"online_retail_II.csv\")\n",
        "df['Revenue'] = df['Quantity'] * df['Price']\n",
        "print(df.head)"
      ]
    },
    {
      "cell_type": "markdown",
      "id": "c955f053",
      "metadata": {
        "id": "c955f053"
      },
      "source": [
        "### Average of Revenue per Year"
      ]
    },
    {
      "cell_type": "code",
      "source": [
        "import pandas as pd\n",
        "import matplotlib.pyplot as plt\n",
        "\n",
        "# Assume your data is stored in a DataFrame named \"df\"\n",
        "df['InvoiceDate'] = pd.to_datetime(df['InvoiceDate'])\n",
        "df['Year'] = df['InvoiceDate'].dt.year\n",
        "\n",
        "# Calculate the mean revenue per year\n",
        "mean_revenue_per_year = df.groupby('Year')['Revenue'].mean()\n",
        "\n",
        "# Plot the mean revenue per year\n",
        "mean_revenue_per_year.plot.bar(x='Year', y='Revenue')\n",
        "plt.xlabel('Year')\n",
        "plt.ylabel('Mean Revenue')\n",
        "plt.title('Mean Revenue per Year')\n",
        "plt.show()"
      ],
      "metadata": {
        "colab": {
          "base_uri": "https://localhost:8080/",
          "height": 311
        },
        "id": "H_mJeZu_ILrM",
        "outputId": "e41eb369-a80d-4b21-e102-b61494995fa8"
      },
      "id": "H_mJeZu_ILrM",
      "execution_count": null,
      "outputs": [
        {
          "output_type": "display_data",
          "data": {
            "text/plain": [
              "<Figure size 432x288 with 1 Axes>"
            ],
            "image/png": "[encoded data removed]"
          },
          "metadata": {
            "needs_background": "light"
          }
        }
      ]
    },
    {
      "cell_type": "markdown",
      "id": "8823e17c",
      "metadata": {
        "id": "8823e17c"
      },
      "source": [
        "### Interpretation"
      ]
    },
    {
      "cell_type": "markdown",
      "source": [
        "Dari visualisasi garis pada grafik di atas, dapat dilihat bahwa rata-rata Revenue per tahun memiliki tren naik sejak tahun 2010 hingga tahun 2011."
      ],
      "metadata": {
        "id": "W6PvnBZtC0E9"
      },
      "id": "W6PvnBZtC0E9"
    },
    {
      "cell_type": "markdown",
      "id": "4ff5f5d4",
      "metadata": {
        "id": "4ff5f5d4"
      },
      "source": [
        "## Section 2"
      ]
    },
    {
      "cell_type": "markdown",
      "id": "8dadd5ef",
      "metadata": {
        "id": "8dadd5ef"
      },
      "source": [
        "### Filtering Data"
      ]
    },
    {
      "cell_type": "code",
      "source": [
        "sales = df[~df['Invoice'].str.contains('C') & (df['Quantity'] > 0)]"
      ],
      "metadata": {
        "id": "xdE_8MnKx1wk"
      },
      "id": "xdE_8MnKx1wk",
      "execution_count": null,
      "outputs": []
    },
    {
      "cell_type": "markdown",
      "id": "2c053fd2",
      "metadata": {
        "id": "2c053fd2"
      },
      "source": [
        "#### Customers who finished their purchases"
      ]
    },
    {
      "cell_type": "code",
      "execution_count": null,
      "id": "d992a159",
      "metadata": {
        "id": "d992a159",
        "colab": {
          "base_uri": "https://localhost:8080/"
        },
        "outputId": "9ba27e2a-cb25-47c5-f1f6-2beb8a83ed01"
      },
      "outputs": [
        {
          "output_type": "stream",
          "name": "stdout",
          "text": [
            "<bound method NDFrame.head of         Invoice StockCode                          Description  Quantity  \\\n",
            "0        489434     85048  15CM CHRISTMAS GLASS BALL 20 LIGHTS        12   \n",
            "1        489434    79323P                   PINK CHERRY LIGHTS        12   \n",
            "2        489434    79323W                  WHITE CHERRY LIGHTS        12   \n",
            "3        489434     22041         RECORD FRAME 7\" SINGLE SIZE         48   \n",
            "4        489434     21232       STRAWBERRY CERAMIC TRINKET BOX        24   \n",
            "...         ...       ...                                  ...       ...   \n",
            "1067366  581587     22899         CHILDREN'S APRON DOLLY GIRL          6   \n",
            "1067367  581587     23254        CHILDRENS CUTLERY DOLLY GIRL          4   \n",
            "1067368  581587     23255      CHILDRENS CUTLERY CIRCUS PARADE         4   \n",
            "1067369  581587     22138        BAKING SET 9 PIECE RETROSPOT          3   \n",
            "1067370  581587      POST                              POSTAGE         1   \n",
            "\n",
            "                 InvoiceDate  Price  Customer ID         Country  \n",
            "0        2009-12-01 07:45:00   6.95      13085.0  United Kingdom  \n",
            "1        2009-12-01 07:45:00   6.75      13085.0  United Kingdom  \n",
            "2        2009-12-01 07:45:00   6.75      13085.0  United Kingdom  \n",
            "3        2009-12-01 07:45:00   2.10      13085.0  United Kingdom  \n",
            "4        2009-12-01 07:45:00   1.25      13085.0  United Kingdom  \n",
            "...                      ...    ...          ...             ...  \n",
            "1067366  2011-12-09 12:50:00   2.10      12680.0          France  \n",
            "1067367  2011-12-09 12:50:00   4.15      12680.0          France  \n",
            "1067368  2011-12-09 12:50:00   4.15      12680.0          France  \n",
            "1067369  2011-12-09 12:50:00   4.95      12680.0          France  \n",
            "1067370  2011-12-09 12:50:00  18.00      12680.0          France  \n",
            "\n",
            "[1067371 rows x 8 columns]>\n"
          ]
        }
      ],
      "source": [
        "import pandas as pd\n",
        "df = pd.read_csv(\"online_retail_II.csv\")\n",
        "finished = sales[sales['Customer ID'].notna()]\n",
        "print(df.head)"
      ]
    },
    {
      "cell_type": "markdown",
      "id": "136b9900",
      "metadata": {
        "id": "136b9900"
      },
      "source": [
        "#### Customers who canceled their purchases"
      ]
    },
    {
      "cell_type": "code",
      "execution_count": null,
      "id": "98af92ed",
      "metadata": {
        "id": "98af92ed",
        "colab": {
          "base_uri": "https://localhost:8080/"
        },
        "outputId": "f06bbd5d-47fc-4e1e-b99f-0e7ea97a8083"
      },
      "outputs": [
        {
          "output_type": "stream",
          "name": "stdout",
          "text": [
            "<bound method NDFrame.head of         Invoice StockCode                          Description  Quantity  \\\n",
            "0        489434     85048  15CM CHRISTMAS GLASS BALL 20 LIGHTS        12   \n",
            "1        489434    79323P                   PINK CHERRY LIGHTS        12   \n",
            "2        489434    79323W                  WHITE CHERRY LIGHTS        12   \n",
            "3        489434     22041         RECORD FRAME 7\" SINGLE SIZE         48   \n",
            "4        489434     21232       STRAWBERRY CERAMIC TRINKET BOX        24   \n",
            "...         ...       ...                                  ...       ...   \n",
            "1067366  581587     22899         CHILDREN'S APRON DOLLY GIRL          6   \n",
            "1067367  581587     23254        CHILDRENS CUTLERY DOLLY GIRL          4   \n",
            "1067368  581587     23255      CHILDRENS CUTLERY CIRCUS PARADE         4   \n",
            "1067369  581587     22138        BAKING SET 9 PIECE RETROSPOT          3   \n",
            "1067370  581587      POST                              POSTAGE         1   \n",
            "\n",
            "                 InvoiceDate  Price  Customer ID         Country  \n",
            "0        2009-12-01 07:45:00   6.95      13085.0  United Kingdom  \n",
            "1        2009-12-01 07:45:00   6.75      13085.0  United Kingdom  \n",
            "2        2009-12-01 07:45:00   6.75      13085.0  United Kingdom  \n",
            "3        2009-12-01 07:45:00   2.10      13085.0  United Kingdom  \n",
            "4        2009-12-01 07:45:00   1.25      13085.0  United Kingdom  \n",
            "...                      ...    ...          ...             ...  \n",
            "1067366  2011-12-09 12:50:00   2.10      12680.0          France  \n",
            "1067367  2011-12-09 12:50:00   4.15      12680.0          France  \n",
            "1067368  2011-12-09 12:50:00   4.15      12680.0          France  \n",
            "1067369  2011-12-09 12:50:00   4.95      12680.0          France  \n",
            "1067370  2011-12-09 12:50:00  18.00      12680.0          France  \n",
            "\n",
            "[1067371 rows x 8 columns]>\n"
          ]
        }
      ],
      "source": [
        "import pandas as pd\n",
        "\n",
        "cancel = sales[sales['Invoice'].str.contains('C')]\n",
        "print(df.head)"
      ]
    },
    {
      "cell_type": "markdown",
      "id": "d3fbb31a",
      "metadata": {
        "id": "d3fbb31a"
      },
      "source": [
        "### Number of Finished and Canceled Transactions Each Year"
      ]
    },
    {
      "cell_type": "code",
      "source": [
        "import pandas as pd\n",
        "import matplotlib.pyplot as plt\n",
        "\n",
        "data = pd.read_csv(\"online_retail_II.csv\")\n",
        "\n",
        "# menyimpan data yang memenuhi syarat\n",
        "cancel = data[data['Invoice'].str.contains(\"C\")]\n",
        "finished = data[~data['Invoice'].isin(cancel['Invoice'])]\n",
        "\n",
        "# memastikan kolom InvoiceDate dalam format datetime\n",
        "finished['InvoiceDate'] = pd.to_datetime(finished['InvoiceDate'])\n",
        "cancel['InvoiceDate'] = pd.to_datetime(cancel['InvoiceDate'])\n",
        "\n",
        "# menghitung jumlah transaksi yang berhasil per tahun\n",
        "finished_yearly = finished.groupby(finished['InvoiceDate'].dt.year).count()['Invoice']\n",
        "\n",
        "# menghitung jumlah transaksi yang dibatalkan per tahun\n",
        "cancel_yearly = cancel.groupby(cancel['InvoiceDate'].dt.year).count()['Invoice']\n",
        "\n",
        "# membuat grafik bar\n",
        "fig, ax = plt.subplots()\n",
        "finished_yearly.plot.bar(ax=ax, color='blue', label='Berhasil')\n",
        "cancel_yearly.plot.bar(ax=ax, color='red', label='Dibatalkan')\n",
        "ax.set_xlabel('Tahun')\n",
        "ax.set_ylabel('Jumlah Transaksi')\n",
        "ax.set_title('Jumlah Transaksi Berhasil dan Dibatalkan per Tahun')\n",
        "ax.legend()\n",
        "plt.show()"
      ],
      "metadata": {
        "colab": {
          "base_uri": "https://localhost:8080/",
          "height": 519
        },
        "id": "vuzyTQkI3yQm",
        "outputId": "a9b85b4d-35d7-4804-d808-703008234e33"
      },
      "id": "vuzyTQkI3yQm",
      "execution_count": null,
      "outputs": [
        {
          "output_type": "stream",
          "name": "stderr",
          "text": [
            "<ipython-input-58-02f38b121f3f>:11: SettingWithCopyWarning: \n",
            "A value is trying to be set on a copy of a slice from a DataFrame.\n",
            "Try using .loc[row_indexer,col_indexer] = value instead\n",
            "\n",
            "See the caveats in the documentation: https://pandas.pydata.org/pandas-docs/stable/user_guide/indexing.html#returning-a-view-versus-a-copy\n",
            "  finished['InvoiceDate'] = pd.to_datetime(finished['InvoiceDate'])\n",
            "<ipython-input-58-02f38b121f3f>:12: SettingWithCopyWarning: \n",
            "A value is trying to be set on a copy of a slice from a DataFrame.\n",
            "Try using .loc[row_indexer,col_indexer] = value instead\n",
            "\n",
            "See the caveats in the documentation: https://pandas.pydata.org/pandas-docs/stable/user_guide/indexing.html#returning-a-view-versus-a-copy\n",
            "  cancel['InvoiceDate'] = pd.to_datetime(cancel['InvoiceDate'])\n"
          ]
        },
        {
          "output_type": "display_data",
          "data": {
            "text/plain": [
              "<Figure size 432x288 with 1 Axes>"
            ],
            "image/png": "[encoded data removed]"
          },
          "metadata": {
            "needs_background": "light"
          }
        }
      ]
    },
    {
      "cell_type": "markdown",
      "id": "158f85e3",
      "metadata": {
        "id": "158f85e3"
      },
      "source": [
        "### Cancellation Rate"
      ]
    },
    {
      "cell_type": "code",
      "execution_count": null,
      "id": "ca8edaa1",
      "metadata": {
        "id": "ca8edaa1",
        "colab": {
          "base_uri": "https://localhost:8080/"
        },
        "outputId": "e5a37ed1-f4c2-4d13-ce72-b10f812049cb"
      },
      "outputs": [
        {
          "output_type": "stream",
          "name": "stdout",
          "text": [
            "      Customer ID\n",
            "Year             \n",
            "2009    29.569378\n",
            "2010    40.335743\n",
            "2011    35.202639\n"
          ]
        }
      ],
      "source": [
        "import pandas as pd\n",
        "\n",
        "# membaca dataset\n",
        "df = pd.read_csv(\"online_retail_II.csv\")\n",
        "\n",
        "# mengubah tipe data kolom \"InvoiceDate\" menjadi tipe \"datetime\"\n",
        "df['InvoiceDate'] = pd.to_datetime(df['InvoiceDate'], format='%Y-%m-%d %H:%M:%S')\n",
        "\n",
        "# mendapatkan tahun dari kolom \"InvoiceDate\" dan menyimpannya ke dalam kolom baru \"Year\"\n",
        "df['Year'] = df['InvoiceDate'].dt.year\n",
        "\n",
        "# menghitung jumlah customer yang cancel dalam setiap tahunnya\n",
        "cancelled_customers = df[df['Quantity'] < 0].groupby('Year').agg({'Customer ID': 'nunique'})\n",
        "\n",
        "# menghitung jumlah seluruh customer dalam setiap tahunnya\n",
        "all_customers = df.groupby('Year').agg({'Customer ID': 'nunique'})\n",
        "\n",
        "# menghitung cancellation rate untuk setiap tahunnya\n",
        "cancellation_rate = (cancelled_customers / all_customers * 100)\n",
        "\n",
        "# menampilkan cancellation rate\n",
        "print(cancellation_rate)"
      ]
    },
    {
      "cell_type": "markdown",
      "id": "8866bcd4",
      "metadata": {
        "id": "8866bcd4"
      },
      "source": [
        "### Interpretation"
      ]
    },
    {
      "cell_type": "markdown",
      "id": "09c84168",
      "metadata": {
        "id": "09c84168"
      },
      "source": [
        "Ketika melihat hasil output jumlah transaksi yang dibatalkan (cancel) untuk setiap tahunnya, bisa dilihat bahwa jumlah transaksi yang dibatalkan memiliki variasi sepanjang tahun. Ada tahun yang memiliki jumlah transaksi pembatalan yang lebih tinggi dan ada tahun yang memiliki jumlah pembatalan transaksi yang lebih rendah.\n",
        "\n",
        "Setelah itu, kita juga melihat hasil dari cancellation rate untuk setiap tahunnya. Cancellation rate menunjukkan persentase pelanggan yang melakukan pembatalan dari seluruh pelanggan. Kita bisa melihat bahwa ada tahun yang memiliki tingkat pembatalan yang lebih tinggi dan ada tahun yang memiliki tingkat pembatalan yang lebih rendah.\n",
        "\n",
        "Secara umum, interpretasi dari hasil kedua output ini menunjukkan bahwa ada variasi dalam jumlah transaksi pembatalan dan cancellation rate sepanjang tahun, ditahun 2009 kita Memiliki jumlah transaksi yang dibatalkan dan cancellation rate lebih rendah dibanding tahun 2010 karena pada tahun 2010 mencapai tingkat paling tinggi dalam jumlah transaksi pembatalan dan cancellaton rate sepanjang tahun dibandingkan 2011 dan 2009. Hal ini bisa menjadi indikasi bahwa ada faktor-faktor tertentu yang mempengaruhi tingkat pembatalan transaksi, seperti misalnya faktor pelanggan, produk, atau layanan. Oleh karena itu perlu dilakukan analisis lebih lanjut untuk mengidentifikasi faktor-faktor tersebut dan membuat strategi untuk mengurangi tingkat pembatalan transaksi."
      ]
    }
  ],
  "metadata": {
    "kernelspec": {
      "display_name": "Python 3 (ipykernel)",
      "language": "python",
      "name": "python3"
    },
    "language_info": {
      "codemirror_mode": {
        "name": "ipython",
        "version": 3
      },
      "file_extension": ".py",
      "mimetype": "text/x-python",
      "name": "python",
      "nbconvert_exporter": "python",
      "pygments_lexer": "ipython3",
      "version": "3.9.6"
    },
    "colab": {
      "provenance": [],
      "include_colab_link": true
    }
  },
  "nbformat": 4,
  "nbformat_minor": 5
}